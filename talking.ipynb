{
 "cells": [
  {
   "metadata": {},
   "cell_type": "markdown",
   "source": "",
   "id": "92743ae9a3b34ed4"
  },
  {
   "cell_type": "code",
   "id": "initial_id",
   "metadata": {
    "collapsed": true,
    "ExecuteTime": {
     "end_time": "2025-01-09T04:52:06.526589Z",
     "start_time": "2025-01-09T04:52:05.778229Z"
    }
   },
   "source": [
    "import os\n",
    "\n",
    "os.environ[\"DASHSCOPE_API_KEY\"] = \"sk-9041beedef014f4cb57ff1ef1dc6cd33\"\n",
    "\n",
    "from langchain_community.llms import Tongyi\n",
    "from langchain_core.messages import HumanMessage, SystemMessage\n",
    "model = Tongyi()"
   ],
   "outputs": [],
   "execution_count": 5
  },
  {
   "metadata": {
    "ExecuteTime": {
     "end_time": "2025-01-09T04:52:08.949731Z",
     "start_time": "2025-01-09T04:52:07.863603Z"
    }
   },
   "cell_type": "code",
   "source": [
    "from langchain_core.messages import HumanMessage\n",
    "\n",
    "model.invoke([HumanMessage(content=\"你好，我是周向子健\")])"
   ],
   "id": "5c2b447e465c1c6e",
   "outputs": [
    {
     "data": {
      "text/plain": [
       "'你好，周向子健！有什么我可以帮你的吗？'"
      ]
     },
     "execution_count": 6,
     "metadata": {},
     "output_type": "execute_result"
    }
   ],
   "execution_count": 6
  },
  {
   "metadata": {
    "ExecuteTime": {
     "end_time": "2025-01-09T04:55:06.759222Z",
     "start_time": "2025-01-09T04:55:05.529205Z"
    }
   },
   "cell_type": "code",
   "source": "model.invoke([HumanMessage(content=\"我的名字是什么呢\")])",
   "id": "d596eae3443ccf81",
   "outputs": [
    {
     "data": {
      "text/plain": [
       "'您在问题中并没有提供名字相关信息，所以我无法得知您的名字。如果您想告诉我您的名字，可以在此提供更多信息。'"
      ]
     },
     "execution_count": 8,
     "metadata": {},
     "output_type": "execute_result"
    }
   ],
   "execution_count": 8
  },
  {
   "metadata": {
    "ExecuteTime": {
     "end_time": "2025-01-09T05:06:27.795192Z",
     "start_time": "2025-01-09T05:06:26.876916Z"
    }
   },
   "cell_type": "code",
   "source": [
    "from langchain_core.messages import AIMessage\n",
    "\n",
    "model.invoke(\n",
    "    [\n",
    "        HumanMessage(content=\"你好我是周向子健\"),\n",
    "        AIMessage(content=\"你好，周向子健。今天我该怎么帮助你\"),\n",
    "        HumanMessage(content=\"我叫什么?\"),\n",
    "    ]\n",
    ")"
   ],
   "id": "cee61c97888ef870",
   "outputs": [
    {
     "data": {
      "text/plain": [
       "'你叫周向子健。'"
      ]
     },
     "execution_count": 10,
     "metadata": {},
     "output_type": "execute_result"
    }
   ],
   "execution_count": 10
  },
  {
   "metadata": {
    "ExecuteTime": {
     "end_time": "2025-01-09T05:08:19.851634Z",
     "start_time": "2025-01-09T05:08:19.841558Z"
    }
   },
   "cell_type": "code",
   "source": [
    "from langchain_core.chat_history import (\n",
    "    BaseChatMessageHistory,\n",
    "    InMemoryChatMessageHistory,\n",
    ")\n",
    "from langchain_core.runnables.history import RunnableWithMessageHistory\n",
    "\n",
    "store = {}\n",
    "\n",
    "\n",
    "def get_session_history(session_id: str) -> BaseChatMessageHistory:\n",
    "    if session_id not in store:\n",
    "        store[session_id] = InMemoryChatMessageHistory()\n",
    "    return store[session_id]\n",
    "\n",
    "\n",
    "with_message_history = RunnableWithMessageHistory(model, get_session_history)"
   ],
   "id": "9d33bdd2b86c0893",
   "outputs": [],
   "execution_count": 14
  },
  {
   "metadata": {
    "ExecuteTime": {
     "end_time": "2025-01-09T05:08:22.568068Z",
     "start_time": "2025-01-09T05:08:20.564323Z"
    }
   },
   "cell_type": "code",
   "source": [
    "\n",
    "config = {\"configurable\": {\"session_id\": \"abc2\"}}\n",
    "\n",
    "response = with_message_history.invoke(\n",
    "    [HumanMessage(content=\"你好，我的名字叫周向子健！\")],\n",
    "    config=config,\n",
    ")\n",
    "print(response)"
   ],
   "id": "7d2b206bc9f55691",
   "outputs": [
    {
     "name": "stderr",
     "output_type": "stream",
     "text": [
      "Error in RootListenersTracer.on_llm_end callback: KeyError('message')\n"
     ]
    },
    {
     "name": "stdout",
     "output_type": "stream",
     "text": [
      "你好，周向子健！很高兴认识你。你可以叫我Qwen。我是一个来自阿里云的大规模语言模型。我可以帮助你回答问题、提供信息或进行各种主题的对话。有什么我可以帮你的吗？\n"
     ]
    }
   ],
   "execution_count": 15
  },
  {
   "metadata": {
    "ExecuteTime": {
     "end_time": "2025-01-09T05:08:26.378918Z",
     "start_time": "2025-01-09T05:08:25.146460Z"
    }
   },
   "cell_type": "code",
   "source": [
    "\n",
    "response = with_message_history.invoke(\n",
    "    [HumanMessage(content=\"我的名字叫什么?\")],\n",
    "    config=config,\n",
    ")\n",
    "print(response)"
   ],
   "id": "258908d7d39b7060",
   "outputs": [
    {
     "name": "stderr",
     "output_type": "stream",
     "text": [
      "Error in RootListenersTracer.on_llm_end callback: KeyError('message')\n"
     ]
    },
    {
     "name": "stdout",
     "output_type": "stream",
     "text": [
      "你好！你刚刚提到的名字是“Human”。不过，如果你有其他名字或者想让我称呼你别的名字，可以告诉我哦！\n"
     ]
    }
   ],
   "execution_count": 16
  },
  {
   "metadata": {
    "ExecuteTime": {
     "end_time": "2025-01-09T05:15:25.920268Z",
     "start_time": "2025-01-09T05:15:23.894576Z"
    }
   },
   "cell_type": "code",
   "source": [
    "from langchain_community.llms import Tongyi\n",
    "from langchain_core.messages import HumanMessage\n",
    "from langchain_community.chat_message_histories import ChatMessageHistory\n",
    "from langchain_core.chat_history import BaseChatMessageHistory\n",
    "from langchain_core.runnables.history import RunnableWithMessageHistory\n",
    "from langchain_core.prompts import ChatPromptTemplate, MessagesPlaceholder\n",
    "\n",
    "# 提示模板\n",
    "prompt = ChatPromptTemplate.from_messages(\n",
    "    [\n",
    "        (\n",
    "            \"system\",\n",
    "            \"你是一个有用的助手。尽你所能回答所有问题。\",\n",
    "        ),\n",
    "        MessagesPlaceholder(variable_name=\"messages\"),\n",
    "    ]\n",
    ")\n",
    "\n",
    "# 历史会话存储\n",
    "store = {}\n",
    "\n",
    "# 获取会话历史\n",
    "def get_session_history(session_id: str) -> BaseChatMessageHistory:\n",
    "    if session_id not in store:\n",
    "        store[session_id] = ChatMessageHistory()\n",
    "    return store[session_id]\n",
    "\n",
    "# 使用 Tongyi LLM\n",
    "model = Tongyi()\n",
    "\n",
    "# 构建链式调用\n",
    "chain = prompt | model\n",
    "\n",
    "# 历史消息\n",
    "with_message_history = RunnableWithMessageHistory(chain, get_session_history)\n",
    "\n",
    "# 对话1\n",
    "config = {\"configurable\": {\"session_id\": \"abc2\"}}\n",
    "\n",
    "# 将一个消息列表传递给 .invoke 方法\n",
    "response1 = with_message_history.invoke({\"messages\": [HumanMessage(content=\"你好，我是周向子健\")]}, config=config)\n",
    "print(response1)\n"
   ],
   "id": "2d697e783ddfc76a",
   "outputs": [
    {
     "name": "stdout",
     "output_type": "stream",
     "text": [
      "你好，周向子健！很高兴认识你。有什么我可以帮你的吗？无论是问题解答、建议还是其他任何事情，我都会尽力协助你。\n"
     ]
    }
   ],
   "execution_count": 18
  },
  {
   "metadata": {
    "ExecuteTime": {
     "end_time": "2025-01-09T05:15:30.570897Z",
     "start_time": "2025-01-09T05:15:27.944548Z"
    }
   },
   "cell_type": "code",
   "source": [
    "config = {\"configurable\": {\"session_id\": \"abc2\"}}\n",
    "response2 = with_message_history.invoke({\"messages\":[HumanMessage(content=\"我的姓名是什么?\")]}, config=config)\n",
    "print(response2)\n",
    "\n",
    "config2 = {\"configurable\": {\"session_id\": \"abc3\"}}\n",
    "response2 = with_message_history.invoke({\"messages\":[HumanMessage(content=\"我的姓名是什么?\")]}, config=config2)\n",
    "print(response2)"
   ],
   "id": "d7d252f3783c78a4",
   "outputs": [
    {
     "name": "stdout",
     "output_type": "stream",
     "text": [
      "你的姓名是周向子健。如果有其他问题或需要进一步的帮助，请随时告诉我！\n",
      "对不起，我无法知道你的姓名。你可以告诉我你的姓名，我会记住它以便在我们的对话中使用。\n"
     ]
    }
   ],
   "execution_count": 19
  },
  {
   "metadata": {},
   "cell_type": "markdown",
   "source": "",
   "id": "7836d9f618601dc6"
  },
  {
   "metadata": {
    "ExecuteTime": {
     "end_time": "2025-01-09T05:31:14.703933Z",
     "start_time": "2025-01-09T05:31:12.950059Z"
    }
   },
   "cell_type": "code",
   "source": [
    "from langchain_community.llms import Tongyi\n",
    "from langchain_core.messages import HumanMessage,AIMessage\n",
    "from langchain_community.chat_message_histories import ChatMessageHistory\n",
    "from langchain_core.chat_history import BaseChatMessageHistory\n",
    "from langchain_core.runnables.history import RunnableWithMessageHistory\n",
    "from langchain_core.prompts import ChatPromptTemplate, MessagesPlaceholder\n",
    "from langchain_core.runnables import RunnablePassthrough\n",
    "# 获取会话历史\n",
    "def get_session_history(session_id: str) -> BaseChatMessageHistory:\n",
    "    if session_id not in store:\n",
    "            store[session_id] = ChatMessageHistory()\n",
    "    return store[session_id]\n",
    "# 历史消息\n",
    "with_message_history = RunnableWithMessageHistory(\n",
    "    chain,\n",
    "    get_session_history,\n",
    "    input_messages_key=\"messages\",\n",
    ")\n",
    "# k=10 则无法记得姓名是什么，k=20 则可以记得\n",
    "def filter_messages(messages, k=10):\n",
    "    return messages[-k:]\n",
    "chain = (\n",
    "    RunnablePassthrough.assign(messages=lambda x: filter_messages(x[\"messages\"]))\n",
    "    | prompt\n",
    "    | model\n",
    ")\n",
    "messages = [\n",
    "    SystemMessage(content=\"你是一个非常棒的助手！\"),\n",
    "    HumanMessage(content=\"你好，我的名字叫小明！\"),\n",
    "    AIMessage(content=\"你好！\"),\n",
    "    HumanMessage(content=\"我喜欢香草冰淇淋！\"),\n",
    "    AIMessage(content=\"很好\"),\n",
    "    HumanMessage(content=\"2 + 2等于几？\"),\n",
    "    AIMessage(content=\"4\"),\n",
    "    HumanMessage(content=\"谢谢\"),\n",
    "    AIMessage(content=\"不客气\"),\n",
    "    HumanMessage(content=\"你开心吗\"),\n",
    "    AIMessage(content=\"当然\"),\n",
    "]\n",
    "# 模型有历史聊天记录，再次提问\n",
    "response = with_message_history.invoke(\n",
    "    {\"messages\": messages + [HumanMessage(content=\"我的姓名是什么?\")]}, \n",
    "    config=config\n",
    ")\n",
    "print(response)"
   ],
   "id": "2d8404ba14ac7890",
   "outputs": [
    {
     "name": "stdout",
     "output_type": "stream",
     "text": [
      "你没有告诉我你的名字，所以我无法知道你的姓名。如果你愿意分享，我可以记住它，并在我们的对话中使用。\n"
     ]
    }
   ],
   "execution_count": 21
  },
  {
   "metadata": {
    "ExecuteTime": {
     "end_time": "2025-01-09T05:34:17.480106Z",
     "start_time": "2025-01-09T05:34:16.539499Z"
    }
   },
   "cell_type": "code",
   "source": [
    "config = {\"configurable\": {\"session_id\": \"abc2\"}}\n",
    "# 模型有历史聊天记录，再次提问\n",
    "for r in  with_message_history.stream(\n",
    "    {\"messages\":   [HumanMessage(content=\"请讲一个超过5句话的笑话给我听\")]}, \n",
    "    config=config\n",
    "):\n",
    "    print(r,  width=200)"
   ],
   "id": "79713c74c42d008a",
   "outputs": [
    {
     "name": "stderr",
     "output_type": "stream",
     "text": [
      "Error in RootListenersTracer.on_chain_end callback: ValueError('Expected str, BaseMessage, List[BaseMessage], or Tuple[BaseMessage]. Got None.')\n"
     ]
    },
    {
     "ename": "TypeError",
     "evalue": "'width' is an invalid keyword argument for print()",
     "output_type": "error",
     "traceback": [
      "\u001B[1;31m---------------------------------------------------------------------------\u001B[0m",
      "\u001B[1;31mTypeError\u001B[0m                                 Traceback (most recent call last)",
      "Cell \u001B[1;32mIn[22], line 8\u001B[0m\n\u001B[0;32m      3\u001B[0m \u001B[38;5;66;03m# 模型有历史聊天记录，再次提问\u001B[39;00m\n\u001B[0;32m      4\u001B[0m \u001B[38;5;28;01mfor\u001B[39;00m r \u001B[38;5;129;01min\u001B[39;00m  with_message_history\u001B[38;5;241m.\u001B[39mstream(\n\u001B[0;32m      5\u001B[0m     {\u001B[38;5;124m\"\u001B[39m\u001B[38;5;124mmessages\u001B[39m\u001B[38;5;124m\"\u001B[39m:   [HumanMessage(content\u001B[38;5;241m=\u001B[39m\u001B[38;5;124m\"\u001B[39m\u001B[38;5;124m请讲一个超过5句话的笑话给我听\u001B[39m\u001B[38;5;124m\"\u001B[39m)]}, \n\u001B[0;32m      6\u001B[0m     config\u001B[38;5;241m=\u001B[39mconfig\n\u001B[0;32m      7\u001B[0m ):\n\u001B[1;32m----> 8\u001B[0m     \u001B[38;5;28;43mprint\u001B[39;49m\u001B[43m(\u001B[49m\u001B[43mr\u001B[49m\u001B[43m,\u001B[49m\u001B[43m  \u001B[49m\u001B[43mwidth\u001B[49m\u001B[38;5;241;43m=\u001B[39;49m\u001B[38;5;241;43m200\u001B[39;49m\u001B[43m)\u001B[49m\n",
      "\u001B[1;31mTypeError\u001B[0m: 'width' is an invalid keyword argument for print()"
     ]
    }
   ],
   "execution_count": 22
  },
  {
   "metadata": {
    "ExecuteTime": {
     "end_time": "2025-01-09T05:54:50.780168Z",
     "start_time": "2025-01-09T05:54:49.585594Z"
    }
   },
   "cell_type": "code",
   "source": [
    "from langchain_community.llms import Tongyi\n",
    "from langchain_core.messages import HumanMessage,AIMessage\n",
    "from langchain_community.chat_message_histories import ChatMessageHistory\n",
    "from langchain_core.chat_history import BaseChatMessageHistory\n",
    "from langchain_core.runnables.history import RunnableWithMessageHistory\n",
    "from langchain_core.prompts import ChatPromptTemplate, MessagesPlaceholder\n",
    "from langchain_core.runnables import RunnablePassthrough\n",
    "\n",
    "# 提示模板\n",
    "prompt = ChatPromptTemplate.from_messages(\n",
    "    [\n",
    "        (\n",
    "            \"system\",\n",
    "            \"你是一个有用的助手。尽你所能回答所有问题。\",\n",
    "        ),\n",
    "        MessagesPlaceholder(variable_name=\"messages\"),\n",
    "    ]\n",
    ")\n",
    "\n",
    "# 历史会话存储\n",
    "store = {}\n",
    "\n",
    "# 获取会话历史\n",
    "def get_session_history(session_id: str) -> BaseChatMessageHistory:\n",
    "    if session_id not in store:\n",
    "        store[session_id] = ChatMessageHistory()\n",
    "    return store[session_id]\n",
    "\n",
    "# 使用 Tongyi LLM\n",
    "model = Tongyi()\n",
    "\n",
    "# k=10 则无法记得姓名是什么，k=20 则可以记得\n",
    "def filter_messages(messages, k=10):\n",
    "    return messages[-k:]\n",
    "\n",
    "chain = (\n",
    "    RunnablePassthrough.assign(messages=lambda x: filter_messages(x[\"messages\"]))\n",
    "    | prompt\n",
    "    | model\n",
    ")\n",
    "\n",
    "# 历史消息\n",
    "with_message_history = RunnableWithMessageHistory(\n",
    "    chain,\n",
    "    get_session_history,\n",
    "    input_messages_key=\"messages\",\n",
    ")\n",
    "\n",
    "config = {\"configurable\": {\"session_id\": \"abc2\"}}\n",
    "\n",
    "response = with_message_history.invoke(\n",
    "    {\"messages\": [HumanMessage(content=\"我叫周文皓\")]},\n",
    "    config=config\n",
    ")\n",
    "\n",
    "print(response)"
   ],
   "id": "3641355e1b458f3d",
   "outputs": [
    {
     "name": "stdout",
     "output_type": "stream",
     "text": [
      "很高兴认识你，周文皓。有什么我可以帮你的吗？\n"
     ]
    }
   ],
   "execution_count": 23
  },
  {
   "metadata": {
    "ExecuteTime": {
     "end_time": "2025-01-09T05:55:54.244586Z",
     "start_time": "2025-01-09T05:55:39.057008Z"
    }
   },
   "cell_type": "code",
   "source": [
    "response = with_message_history.invoke(\n",
    "    {\"messages\": [HumanMessage(content=\"我想学习粤语可以吗\")]},\n",
    "    config=config\n",
    ")\n",
    "print(response)"
   ],
   "id": "8471d3784b8f3e88",
   "outputs": [
    {
     "name": "stdout",
     "output_type": "stream",
     "text": [
      "当然可以！学习粤语是一个非常有意义的选择，尤其是在与广东、香港和澳门等地的人交流时非常有用。我已经为你准备了一些学习粤语的建议：\n",
      "\n",
      "### 1. **基础发音**\n",
      "   粤语有九声六调，发音比普通话复杂一些。建议你先从基础的发音学起，尤其是声调。你可以通过听音频或视频来模仿发音。\n",
      "\n",
      "   - **声母**：粤语有20多个声母，类似于普通话。\n",
      "   - **韵母**：粤语的韵母比普通话多，尤其是鼻音和塞音收尾的韵母（如“-m”、“-p”、“-t”）。\n",
      "   - **声调**：粤语有九个声调，分为六个主要声调和三个入声调。掌握声调是学习粤语的关键。\n",
      "\n",
      "### 2. **常用词汇和短语**\n",
      "   你可以从日常生活中常用的词汇和短语开始学习。例如：\n",
      "   - 你好：你好呀（nei5 hou6 aa3）\n",
      "   - 谢谢：多谢（do1 ze6）\n",
      "   - 对不起：对不起（deoi6 baai2）\n",
      "   - 请问：请问下（ching3 boon2 faat3）\n",
      "\n",
      "### 3. **使用学习工具**\n",
      "   - **手机应用**：有许多粤语学习的应用程序，比如“粤语课堂”、“HelloTalk”等，可以帮助你练习对话和听力。\n",
      "   - **YouTube频道**：有很多粤语教学频道，提供免费的视频教程，适合初学者。\n",
      "   - **字典和词典**：使用粤语字典（如“粤语在线词典”）可以帮助你查找单词的发音和意思。\n",
      "\n",
      "### 4. **多听多说**\n",
      "   - **看粤语电影或电视剧**：通过观看粤语电影、电视剧或综艺节目，你可以熟悉粤语的表达方式和常用词汇。\n",
      "   - **找语言伙伴**：如果你有机会接触讲粤语的人，尽量多和他们交流，实践是最好的学习方法。\n",
      "\n",
      "### 5. **参加课程**\n",
      "   如果你有条件，可以报名参加线下的粤语课程，或者寻找在线的粤语老师进行一对一辅导。\n",
      "\n",
      "### 6. **保持耐心**\n",
      "   粤语的学习过程可能会有些挑战，尤其是声调和发音部分，但只要你坚持不懈，逐渐积累词汇和语感，一定会取得进步。\n",
      "\n",
      "如果你有任何具体问题或需要进一步的帮助，随时告诉我！祝你学习顺利！😊\n",
      "\n",
      "另外，你也可以告诉我你目前的汉语水平，这样我可以根据你的具体情况给出更有针对性的建议。\n"
     ]
    }
   ],
   "execution_count": 25
  },
  {
   "metadata": {
    "ExecuteTime": {
     "end_time": "2025-01-09T05:56:33.311686Z",
     "start_time": "2025-01-09T05:56:32.084320Z"
    }
   },
   "cell_type": "code",
   "source": [
    "response = with_message_history.invoke(\n",
    "    {\"messages\": [HumanMessage(content=\"请问我是谁啊\")]},\n",
    "    config=config\n",
    ")\n",
    "print(response)"
   ],
   "id": "ba297ae48511ceee",
   "outputs": [
    {
     "name": "stdout",
     "output_type": "stream",
     "text": [
      "你之前提到你叫周文皓。如果你有其他问题或需要更多帮助，随时告诉我哦！😊\n"
     ]
    }
   ],
   "execution_count": 26
  },
  {
   "metadata": {},
   "cell_type": "code",
   "outputs": [],
   "execution_count": null,
   "source": "",
   "id": "128dc74b676f47a7"
  }
 ],
 "metadata": {
  "kernelspec": {
   "display_name": "Python 3",
   "language": "python",
   "name": "python3"
  },
  "language_info": {
   "codemirror_mode": {
    "name": "ipython",
    "version": 2
   },
   "file_extension": ".py",
   "mimetype": "text/x-python",
   "name": "python",
   "nbconvert_exporter": "python",
   "pygments_lexer": "ipython2",
   "version": "2.7.6"
  }
 },
 "nbformat": 4,
 "nbformat_minor": 5
}
