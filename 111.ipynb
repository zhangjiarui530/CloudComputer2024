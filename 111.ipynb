{
 "cells": [
  {
   "cell_type": "code",
   "id": "initial_id",
   "metadata": {
    "collapsed": true,
    "ExecuteTime": {
     "end_time": "2025-01-09T17:16:37.672785Z",
     "start_time": "2025-01-09T17:16:35.757331Z"
    }
   },
   "source": [
    "from flask import Flask, request, jsonify, render_template, send_file\n",
    "from pydub import AudioSegment\n",
    "from aip import AipSpeech\n",
    "from langchain_openai import ChatOpenAI\n",
    "from langchain_core.messages import HumanMessage, SystemMessage\n",
    "import os\n",
    "from langchain_community.llms import Tongyi\n",
    "from langchain_core.messages import HumanMessage,AIMessage\n",
    "from langchain_community.chat_message_histories import ChatMessageHistory\n",
    "from langchain_core.chat_history import BaseChatMessageHistory\n",
    "from langchain_core.runnables.history import RunnableWithMessageHistory\n",
    "from langchain_core.prompts import ChatPromptTemplate, MessagesPlaceholder\n",
    "from langchain_core.runnables import RunnablePassthrough\n",
    "import os"
   ],
   "outputs": [],
   "execution_count": 1
  },
  {
   "metadata": {
    "ExecuteTime": {
     "end_time": "2025-01-09T17:20:28.342581Z",
     "start_time": "2025-01-09T17:20:25.982337Z"
    }
   },
   "cell_type": "code",
   "source": [
    "def convert_wav_to_wav(wav_file_path, output_wav_file_path):\n",
    "    \"\"\"将 WAV 文件转换为指定格式，并调整采样率、采样宽度、声道数和增益\"\"\"\n",
    "    # 加载 WAV 文件\n",
    "    audio = AudioSegment.from_wav(wav_file_path)\n",
    "\n",
    "    # 设置采样率为16000 Hz\n",
    "    audio = audio.set_frame_rate(16000)\n",
    "\n",
    "    # 设置 2 字节采样（16-bit）\n",
    "    audio = audio.set_sample_width(2)\n",
    "\n",
    "    # 设置为单声道\n",
    "    audio = audio.set_channels(1)\n",
    "\n",
    "    # 增加 10dB\n",
    "    audio = audio + 10\n",
    "\n",
    "    # 导出为 WAV 文件，使用 PCM 编码\n",
    "    audio.export(output_wav_file_path, format=\"wav\", codec=\"pcm_s16le\")\n",
    "\n",
    "wav_file_path = './yun/uploadstalk/recording.wav'\n",
    "output_wav_file_path = './yun/uploads/output.wav'\n",
    "convert_wav_to_wav(wav_file_path, output_wav_file_path)"
   ],
   "id": "3a925a32eb70b0e0",
   "outputs": [
    {
     "ename": "CouldntDecodeError",
     "evalue": "Decoding failed. ffmpeg returned error code: 3199971767\n\nOutput from ffmpeg/avlib:\n\nffmpeg version 7.1-essentials_build-www.gyan.dev Copyright (c) 2000-2024 the FFmpeg developers\r\n  built with gcc 14.2.0 (Rev1, Built by MSYS2 project)\r\n  configuration: --enable-gpl --enable-version3 --enable-static --disable-w32threads --disable-autodetect --enable-fontconfig --enable-iconv --enable-gnutls --enable-libxml2 --enable-gmp --enable-bzlib --enable-lzma --enable-zlib --enable-libsrt --enable-libssh --enable-libzmq --enable-avisynth --enable-sdl2 --enable-libwebp --enable-libx264 --enable-libx265 --enable-libxvid --enable-libaom --enable-libopenjpeg --enable-libvpx --enable-mediafoundation --enable-libass --enable-libfreetype --enable-libfribidi --enable-libharfbuzz --enable-libvidstab --enable-libvmaf --enable-libzimg --enable-amf --enable-cuda-llvm --enable-cuvid --enable-dxva2 --enable-d3d11va --enable-d3d12va --enable-ffnvcodec --enable-libvpl --enable-nvdec --enable-nvenc --enable-vaapi --enable-libgme --enable-libopenmpt --enable-libopencore-amrwb --enable-libmp3lame --enable-libtheora --enable-libvo-amrwbenc --enable-libgsm --enable-libopencore-amrnb --enable-libopus --enable-libspeex --enable-libvorbis --enable-librubberband\r\n  libavutil      59. 39.100 / 59. 39.100\r\n  libavcodec     61. 19.100 / 61. 19.100\r\n  libavformat    61.  7.100 / 61.  7.100\r\n  libavdevice    61.  3.100 / 61.  3.100\r\n  libavfilter    10.  4.100 / 10.  4.100\r\n  libswscale      8.  3.100 /  8.  3.100\r\n  libswresample   5.  3.100 /  5.  3.100\r\n  libpostproc    58.  3.100 / 58.  3.100\r\n[wav @ 00000267b2edfa80] invalid start code [26]E[223][163] in RIFF header\r\n[in#0 @ 00000267b2edf680] Error opening input: Invalid data found when processing input\r\nError opening input file ./yun/uploadstalk/recording.wav.\r\nError opening input files: Invalid data found when processing input\r\n",
     "output_type": "error",
     "traceback": [
      "\u001B[1;31m---------------------------------------------------------------------------\u001B[0m",
      "\u001B[1;31mCouldntDecodeError\u001B[0m                        Traceback (most recent call last)",
      "Cell \u001B[1;32mIn[2], line 23\u001B[0m\n\u001B[0;32m     21\u001B[0m wav_file_path \u001B[38;5;241m=\u001B[39m \u001B[38;5;124m'\u001B[39m\u001B[38;5;124m./yun/uploadstalk/recording.wav\u001B[39m\u001B[38;5;124m'\u001B[39m\n\u001B[0;32m     22\u001B[0m output_wav_file_path \u001B[38;5;241m=\u001B[39m \u001B[38;5;124m'\u001B[39m\u001B[38;5;124m./yun/uploads/output.wav\u001B[39m\u001B[38;5;124m'\u001B[39m\n\u001B[1;32m---> 23\u001B[0m \u001B[43mconvert_wav_to_wav\u001B[49m\u001B[43m(\u001B[49m\u001B[43mwav_file_path\u001B[49m\u001B[43m,\u001B[49m\u001B[43m \u001B[49m\u001B[43moutput_wav_file_path\u001B[49m\u001B[43m)\u001B[49m\n",
      "Cell \u001B[1;32mIn[2], line 4\u001B[0m, in \u001B[0;36mconvert_wav_to_wav\u001B[1;34m(wav_file_path, output_wav_file_path)\u001B[0m\n\u001B[0;32m      2\u001B[0m \u001B[38;5;250m\u001B[39m\u001B[38;5;124;03m\"\"\"将 WAV 文件转换为指定格式，并调整采样率、采样宽度、声道数和增益\"\"\"\u001B[39;00m\n\u001B[0;32m      3\u001B[0m \u001B[38;5;66;03m# 加载 WAV 文件\u001B[39;00m\n\u001B[1;32m----> 4\u001B[0m audio \u001B[38;5;241m=\u001B[39m \u001B[43mAudioSegment\u001B[49m\u001B[38;5;241;43m.\u001B[39;49m\u001B[43mfrom_wav\u001B[49m\u001B[43m(\u001B[49m\u001B[43mwav_file_path\u001B[49m\u001B[43m)\u001B[49m\n\u001B[0;32m      6\u001B[0m \u001B[38;5;66;03m# 设置采样率为16000 Hz\u001B[39;00m\n\u001B[0;32m      7\u001B[0m audio \u001B[38;5;241m=\u001B[39m audio\u001B[38;5;241m.\u001B[39mset_frame_rate(\u001B[38;5;241m16000\u001B[39m)\n",
      "File \u001B[1;32mD:\\Python\\Lib\\site-packages\\pydub\\audio_segment.py:808\u001B[0m, in \u001B[0;36mAudioSegment.from_wav\u001B[1;34m(cls, file, parameters)\u001B[0m\n\u001B[0;32m    806\u001B[0m \u001B[38;5;129m@classmethod\u001B[39m\n\u001B[0;32m    807\u001B[0m \u001B[38;5;28;01mdef\u001B[39;00m \u001B[38;5;21mfrom_wav\u001B[39m(\u001B[38;5;28mcls\u001B[39m, file, parameters\u001B[38;5;241m=\u001B[39m\u001B[38;5;28;01mNone\u001B[39;00m):\n\u001B[1;32m--> 808\u001B[0m     \u001B[38;5;28;01mreturn\u001B[39;00m \u001B[38;5;28;43mcls\u001B[39;49m\u001B[38;5;241;43m.\u001B[39;49m\u001B[43mfrom_file\u001B[49m\u001B[43m(\u001B[49m\u001B[43mfile\u001B[49m\u001B[43m,\u001B[49m\u001B[43m \u001B[49m\u001B[38;5;124;43m'\u001B[39;49m\u001B[38;5;124;43mwav\u001B[39;49m\u001B[38;5;124;43m'\u001B[39;49m\u001B[43m,\u001B[49m\u001B[43m \u001B[49m\u001B[43mparameters\u001B[49m\u001B[38;5;241;43m=\u001B[39;49m\u001B[43mparameters\u001B[49m\u001B[43m)\u001B[49m\n",
      "File \u001B[1;32mD:\\Python\\Lib\\site-packages\\pydub\\audio_segment.py:773\u001B[0m, in \u001B[0;36mAudioSegment.from_file\u001B[1;34m(cls, file, format, codec, parameters, start_second, duration, **kwargs)\u001B[0m\n\u001B[0;32m    771\u001B[0m     \u001B[38;5;28;01mif\u001B[39;00m close_file:\n\u001B[0;32m    772\u001B[0m         file\u001B[38;5;241m.\u001B[39mclose()\n\u001B[1;32m--> 773\u001B[0m     \u001B[38;5;28;01mraise\u001B[39;00m CouldntDecodeError(\n\u001B[0;32m    774\u001B[0m         \u001B[38;5;124m\"\u001B[39m\u001B[38;5;124mDecoding failed. ffmpeg returned error code: \u001B[39m\u001B[38;5;132;01m{0}\u001B[39;00m\u001B[38;5;130;01m\\n\u001B[39;00m\u001B[38;5;130;01m\\n\u001B[39;00m\u001B[38;5;124mOutput from ffmpeg/avlib:\u001B[39m\u001B[38;5;130;01m\\n\u001B[39;00m\u001B[38;5;130;01m\\n\u001B[39;00m\u001B[38;5;132;01m{1}\u001B[39;00m\u001B[38;5;124m\"\u001B[39m\u001B[38;5;241m.\u001B[39mformat(\n\u001B[0;32m    775\u001B[0m             p\u001B[38;5;241m.\u001B[39mreturncode, p_err\u001B[38;5;241m.\u001B[39mdecode(errors\u001B[38;5;241m=\u001B[39m\u001B[38;5;124m'\u001B[39m\u001B[38;5;124mignore\u001B[39m\u001B[38;5;124m'\u001B[39m) ))\n\u001B[0;32m    777\u001B[0m p_out \u001B[38;5;241m=\u001B[39m \u001B[38;5;28mbytearray\u001B[39m(p_out)\n\u001B[0;32m    778\u001B[0m fix_wav_headers(p_out)\n",
      "\u001B[1;31mCouldntDecodeError\u001B[0m: Decoding failed. ffmpeg returned error code: 3199971767\n\nOutput from ffmpeg/avlib:\n\nffmpeg version 7.1-essentials_build-www.gyan.dev Copyright (c) 2000-2024 the FFmpeg developers\r\n  built with gcc 14.2.0 (Rev1, Built by MSYS2 project)\r\n  configuration: --enable-gpl --enable-version3 --enable-static --disable-w32threads --disable-autodetect --enable-fontconfig --enable-iconv --enable-gnutls --enable-libxml2 --enable-gmp --enable-bzlib --enable-lzma --enable-zlib --enable-libsrt --enable-libssh --enable-libzmq --enable-avisynth --enable-sdl2 --enable-libwebp --enable-libx264 --enable-libx265 --enable-libxvid --enable-libaom --enable-libopenjpeg --enable-libvpx --enable-mediafoundation --enable-libass --enable-libfreetype --enable-libfribidi --enable-libharfbuzz --enable-libvidstab --enable-libvmaf --enable-libzimg --enable-amf --enable-cuda-llvm --enable-cuvid --enable-dxva2 --enable-d3d11va --enable-d3d12va --enable-ffnvcodec --enable-libvpl --enable-nvdec --enable-nvenc --enable-vaapi --enable-libgme --enable-libopenmpt --enable-libopencore-amrwb --enable-libmp3lame --enable-libtheora --enable-libvo-amrwbenc --enable-libgsm --enable-libopencore-amrnb --enable-libopus --enable-libspeex --enable-libvorbis --enable-librubberband\r\n  libavutil      59. 39.100 / 59. 39.100\r\n  libavcodec     61. 19.100 / 61. 19.100\r\n  libavformat    61.  7.100 / 61.  7.100\r\n  libavdevice    61.  3.100 / 61.  3.100\r\n  libavfilter    10.  4.100 / 10.  4.100\r\n  libswscale      8.  3.100 /  8.  3.100\r\n  libswresample   5.  3.100 /  5.  3.100\r\n  libpostproc    58.  3.100 / 58.  3.100\r\n[wav @ 00000267b2edfa80] invalid start code [26]E[223][163] in RIFF header\r\n[in#0 @ 00000267b2edf680] Error opening input: Invalid data found when processing input\r\nError opening input file ./yun/uploadstalk/recording.wav.\r\nError opening input files: Invalid data found when processing input\r\n"
     ]
    }
   ],
   "execution_count": 2
  },
  {
   "metadata": {
    "ExecuteTime": {
     "end_time": "2025-01-09T17:22:16.642978Z",
     "start_time": "2025-01-09T17:22:16.141629Z"
    }
   },
   "cell_type": "code",
   "source": [
    "import subprocess\n",
    "\n",
    "def convert_wav_to_wav(wav_file_path, output_wav_file_path):\n",
    "    \"\"\"直接使用 FFmpeg 转换 WAV 文件，并调整采样率、采样宽度、声道数和增益\"\"\"\n",
    "    \n",
    "    # FFmpeg 命令\n",
    "    command = [\n",
    "        \"ffmpeg\",\n",
    "        \"-i\", wav_file_path,           # 输入文件\n",
    "        \"-ar\", \"16000\",                 # 设置采样率为16000 Hz\n",
    "        \"-ac\", \"1\",                     # 设置为单声道\n",
    "        \"-sample_fmt\", \"s16\",           # 设置为 16-bit\n",
    "        \"-filter:a\", \"volume=10dB\",     # 增加 10 dB\n",
    "        output_wav_file_path            # 输出文件路径\n",
    "    ]\n",
    "    \n",
    "    try:\n",
    "        # 执行 FFmpeg 命令\n",
    "        subprocess.run(command, check=True)\n",
    "        print(f\"文件已成功转换并保存为 {output_wav_file_path}\")\n",
    "    except subprocess.CalledProcessError as e:\n",
    "        print(f\"转换失败：{e}\")\n",
    "\n",
    "# 使用示例\n",
    "wav_file_path = './yun/uploadstalk/recording.wav'\n",
    "output_wav_file_path = './yun/uploads/output.wav'\n",
    "convert_wav_to_wav(wav_file_path, output_wav_file_path)\n"
   ],
   "id": "1827ea269dd81436",
   "outputs": [
    {
     "name": "stdout",
     "output_type": "stream",
     "text": [
      "文件已成功转换并保存为 ./yun/uploads/output.wav\n"
     ]
    }
   ],
   "execution_count": 3
  },
  {
   "metadata": {},
   "cell_type": "code",
   "outputs": [],
   "execution_count": null,
   "source": "",
   "id": "f371cb4510af7420"
  }
 ],
 "metadata": {
  "kernelspec": {
   "display_name": "Python 3",
   "language": "python",
   "name": "python3"
  },
  "language_info": {
   "codemirror_mode": {
    "name": "ipython",
    "version": 2
   },
   "file_extension": ".py",
   "mimetype": "text/x-python",
   "name": "python",
   "nbconvert_exporter": "python",
   "pygments_lexer": "ipython2",
   "version": "2.7.6"
  }
 },
 "nbformat": 4,
 "nbformat_minor": 5
}
