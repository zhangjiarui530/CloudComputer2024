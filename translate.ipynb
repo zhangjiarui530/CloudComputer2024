{
 "cells": [
  {
   "cell_type": "code",
   "id": "initial_id",
   "metadata": {
    "collapsed": true,
    "ExecuteTime": {
     "end_time": "2025-01-09T11:19:44.588273Z",
     "start_time": "2025-01-09T11:19:44.484409Z"
    }
   },
   "source": [
    "import pandas as pd\n",
    "\n",
    "# 读取TSV文件\n",
    "df = pd.read_csv('./data/yue/train.tsv', sep='\\t', encoding='utf-8')\n",
    "\n",
    "# 通过列名访问某一列\n",
    "sentences = df['sentence']  # 假设列名为 '列名'"
   ],
   "outputs": [],
   "execution_count": 8
  },
  {
   "metadata": {},
   "cell_type": "code",
   "outputs": [],
   "execution_count": null,
   "source": "",
   "id": "5d2fc920f4ab00fb"
  },
  {
   "metadata": {
    "ExecuteTime": {
     "end_time": "2025-01-09T11:19:47.258885Z",
     "start_time": "2025-01-09T11:19:45.261423Z"
    }
   },
   "cell_type": "code",
   "source": [
    "from langchain_openai import ChatOpenAI\n",
    "from langchain_core.messages import HumanMessage, SystemMessage\n",
    "api_key = \"cd493791757b49fdbc0eeba1367608f0.xGgQTGgq7e7jIORn\"\n",
    "model=ChatOpenAI(\n",
    "temperature=0.95,\n",
    "model=\"glm-4-flash\",\n",
    "openai_api_key=api_key,\n",
    "openai_api_base=\"https://open.bigmodel.cn/api/paas/v4/\"\n",
    ")\n",
    "# 回答粤语或者普通话即可。\n",
    "messages = [\n",
    "SystemMessage(content=\"请识别下列是粤语还是普通话。如果是粤语，翻译成普通话\"),\n",
    "HumanMessage(content=\"我哋今晚去边度食好？\"),\n",
    "]\n",
    "response = model.invoke(messages)\n",
    "\n",
    "# 仅输出翻译后的文本\n",
    "translated_text = response.content  # 从响应中提取文本字段\n",
    "print(translated_text)  # 打印翻译后的结果"
   ],
   "id": "2a95caa2236c7b17",
   "outputs": [
    {
     "name": "stdout",
     "output_type": "stream",
     "text": [
      "这是粤语。\n",
      "\n",
      "翻译成普通话是：“我们今晚去哪里吃饭好？”\n"
     ]
    }
   ],
   "execution_count": 9
  },
  {
   "metadata": {
    "ExecuteTime": {
     "end_time": "2025-01-09T11:19:55.835137Z",
     "start_time": "2025-01-09T11:19:50.668447Z"
    }
   },
   "cell_type": "code",
   "source": [
    "# 这里不需要管，是assemblyai的使用\n",
    "from langchain_community.document_loaders import AssemblyAIAudioTranscriptLoader\n",
    "\n",
    "# 初始化加载器\n",
    "loader = AssemblyAIAudioTranscriptLoader(\n",
    "    file_path=\"./data/yue/clips/common_voice_yue_31172849.mp3\",\n",
    "    api_key=\"bbe5a4fed2904483b6d96ce840f7b452\"\n",
    ")\n",
    "\n",
    "# 加载并转录音频\n",
    "documents = loader.load()\n",
    "\n",
    "# 处理转录后的文档\n",
    "for doc in documents:\n",
    "    print(doc.page_content)"
   ],
   "id": "deca08df4d06a058",
   "outputs": [
    {
     "name": "stdout",
     "output_type": "stream",
     "text": [
      "Oto ho ho kei dingalem jung ying.\n"
     ]
    }
   ],
   "execution_count": 10
  },
  {
   "metadata": {
    "ExecuteTime": {
     "end_time": "2025-01-09T11:20:00.724290Z",
     "start_time": "2025-01-09T11:19:57.128940Z"
    }
   },
   "cell_type": "code",
   "source": [
    "from pydub import AudioSegment\n",
    "from aip import AipSpeech\n",
    "\n",
    "# 百度云语音识别的 API Key 和 Secret Key\n",
    "APP_ID = '6251315'\n",
    "API_KEY = 'Yz15TnhVhSoiX3p1uUfOLYCX'\n",
    "SECRET_KEY = '0HCL2dA6NIdK51Wz2jQVkqddwvnoAixb'\n",
    "\n",
    "# 初始化AipSpeech对象\n",
    "client = AipSpeech(APP_ID, API_KEY, SECRET_KEY)\n",
    "# 设置 pydub 使用的 ffmpeg 路径\n",
    "AudioSegment.ffmpeg = r\"D:\\FFmpeg\\bin\\ffmpeg.exe\" \n",
    "\n",
    "def convert_mp3_to_wav(mp3_file_path, wav_file_path):\n",
    "    \"\"\"将 MP3 文件转换为 WAV 格式\"\"\"\n",
    "    audio = AudioSegment.from_mp3(mp3_file_path)\n",
    "    audio = audio.set_frame_rate(16000)  # 设置采样率为16000 Hz\n",
    "    # audio.export(wav_file_path, format=\"wav\")  # 使用 PCM 编码导出\n",
    "\n",
    "    audio = audio.set_sample_width(2)  # 使用 2 字节采样（16-bit）\n",
    "    audio = audio.set_channels(1)  # 设置为单声道（语音识别通常更适合单声道）\n",
    "    audio = audio + 10  # 增加10dB\n",
    "\n",
    "    audio.export(wav_file_path, format=\"wav\", codec=\"pcm_s16le\")  # 使用 PCM 编码导出\n",
    "\n",
    "def speech_to_text(audio_file_path):\n",
    "    \"\"\"使用百度云语音识别将音频文件转为文本\"\"\"\n",
    "    with open(audio_file_path, 'rb') as f:\n",
    "        audio_data = f.read()\n",
    "        \n",
    "        result = client.asr(audio_data, 'wav', 16000, {\n",
    "             'dev_pid': 1637,  # 语言参数设置为粤语\n",
    "        })\n",
    "        \n",
    "        print(result)\n",
    "        \n",
    "        if result.get('err_no') == 0:\n",
    "            return result['result'][0]\n",
    "        else:\n",
    "            return None\n",
    "\n",
    "# 使用示例：首先将 MP3 文件转换为 WAV 文件\n",
    "mp3_file_path = './data/yue/clips/common_voice_yue_31172849.mp3'\n",
    "wav_file_path = 'converted_audio.wav'\n",
    "convert_mp3_to_wav(mp3_file_path, wav_file_path)\n",
    "\n",
    "# 然后将转换后的 WAV 文件传给百度云进行语音识别\n",
    "transcription = speech_to_text(wav_file_path)\n",
    "print(f\"语音转文本结果：{transcription}\")\n"
   ],
   "id": "a38bc7d79bbf42f7",
   "outputs": [
    {
     "name": "stdout",
     "output_type": "stream",
     "text": [
      "{'corpus_no': '7457873985125832881', 'err_msg': 'success.', 'err_no': 0, 'result': ['我捉好好奇点解连中意我，'], 'sn': '614994189301736421600'}\n",
      "语音转文本结果：我捉好好奇点解连中意我，\n"
     ]
    }
   ],
   "execution_count": 11
  },
  {
   "metadata": {
    "ExecuteTime": {
     "end_time": "2025-01-09T11:20:10.756265Z",
     "start_time": "2025-01-09T11:20:09.076080Z"
    }
   },
   "cell_type": "code",
   "source": [
    "pi_key = \"cd493791757b49fdbc0eeba1367608f0.xGgQTGgq7e7jIORn\"\n",
    "model=ChatOpenAI(\n",
    "temperature=0.95,\n",
    "model=\"glm-4-flash\",\n",
    "openai_api_key=api_key,\n",
    "openai_api_base=\"https://open.bigmodel.cn/api/paas/v4/\"\n",
    ")\n",
    "\n",
    "# 粤语到普通话翻译\n",
    "messages = [\n",
    "    SystemMessage(content=\"这是一句粤语，翻译成普通话，只输出翻译内容\"),\n",
    "    HumanMessage(content=transcription),  # 使用 transcription 变量替换原有文本\n",
    "]\n",
    "\n",
    "response = model.invoke(messages)\n",
    "\n",
    "# 仅输出翻译后的文本\n",
    "translated_text = response.content  # 从响应中提取文本字段\n",
    "print(translated_text)"
   ],
   "id": "2dabb19d1d3fa69e",
   "outputs": [
    {
     "name": "stdout",
     "output_type": "stream",
     "text": [
      "我为什么这么好奇为什么会喜欢我？\n"
     ]
    }
   ],
   "execution_count": 12
  },
  {
   "metadata": {},
   "cell_type": "code",
   "outputs": [],
   "execution_count": null,
   "source": "",
   "id": "d86db29baed6c4a9"
  }
 ],
 "metadata": {
  "kernelspec": {
   "display_name": "Python 3",
   "language": "python",
   "name": "python3"
  },
  "language_info": {
   "codemirror_mode": {
    "name": "ipython",
    "version": 2
   },
   "file_extension": ".py",
   "mimetype": "text/x-python",
   "name": "python",
   "nbconvert_exporter": "python",
   "pygments_lexer": "ipython2",
   "version": "2.7.6"
  }
 },
 "nbformat": 4,
 "nbformat_minor": 5
}
