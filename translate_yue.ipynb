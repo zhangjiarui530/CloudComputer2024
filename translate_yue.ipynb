{
 "cells": [
  {
   "cell_type": "code",
   "execution_count": 1,
   "id": "2b7715be-d95c-4bfe-9fc1-3f67a93f18d4",
   "metadata": {},
   "outputs": [
    {
     "name": "stdout",
     "output_type": "stream",
     "text": [
      "可惜同嘅人手快閂咗門\n"
     ]
    }
   ],
   "source": [
    "import pandas as pd\n",
    "\n",
    "# 读取TSV文件\n",
    "df = pd.read_csv('./cv-corpus-20.0-2024-12-06/yue/train.tsv', sep='\\t', encoding='utf-8')\n",
    "\n",
    "# 通过列名访问某一列\n",
    "sentences = df['sentence']  # 假设列名为 '列名'\n"
   ]
  },
  {
   "cell_type": "code",
   "execution_count": 21,
   "id": "e46b1edb-7b6a-4c2c-8323-4716a082b722",
   "metadata": {},
   "outputs": [
    {
     "name": "stdout",
     "output_type": "stream",
     "text": [
      "粤语\n"
     ]
    }
   ],
   "source": [
    "from langchain_openai import ChatOpenAI\n",
    "from langchain_core.messages import HumanMessage, SystemMessage\n",
    "api_key = \"cd493791757b49fdbc0eeba1367608f0.xGgQTGgq7e7jIORn\"\n",
    "model=ChatOpenAI(\n",
    "temperature=0.95,\n",
    "model=\"glm-4-flash\",\n",
    "openai_api_key=api_key,\n",
    "openai_api_base=\"https://open.bigmodel.cn/api/paas/v4/\"\n",
    ")\n",
    "messages = [\n",
    "SystemMessage(content=\"请识别下列是粤语还是普通话。回答粤语或者普通话即可。\"),\n",
    "HumanMessage(content=\"我哋今晚去边度食好？\"),\n",
    "]\n",
    "response = model.invoke(messages)\n",
    "\n",
    "# 仅输出翻译后的文本\n",
    "translated_text = response.content  # 从响应中提取文本字段\n",
    "print(translated_text)  # 打印翻译后的结果"
   ]
  },
  {
   "cell_type": "code",
   "execution_count": 2,
   "id": "d73cb3e4-2060-4c5b-b409-eee3bb6f5bef",
   "metadata": {},
   "outputs": [
    {
     "name": "stdout",
     "output_type": "stream",
     "text": [
      "Tole ho sak mong.\n"
     ]
    }
   ],
   "source": [
    "# 这里不需要管，是assemblyai的使用\n",
    "from langchain_community.document_loaders import AssemblyAIAudioTranscriptLoader\n",
    "\n",
    "# 初始化加载器\n",
    "loader = AssemblyAIAudioTranscriptLoader(\n",
    "    file_path=\"./cv-corpus-20.0-2024-12-06/yue/clips/common_voice_yue_40641371.mp3\",\n",
    "    api_key=\"bbe5a4fed2904483b6d96ce840f7b452\"\n",
    ")\n",
    "\n",
    "# 加载并转录音频\n",
    "documents = loader.load()\n",
    "\n",
    "# 处理转录后的文档\n",
    "for doc in documents:\n",
    "    print(doc.page_content)"
   ]
  },
  {
   "cell_type": "code",
   "execution_count": 30,
   "id": "dd58c19c-ec69-4ea9-9ae3-7f6b45894993",
   "metadata": {},
   "outputs": [
    {
     "name": "stdout",
     "output_type": "stream",
     "text": [
      "{'corpus_no': '7457816703489389929', 'err_msg': 'success.', 'err_no': 0, 'result': ['小小数喊，'], 'sn': '21594576281736408263'}\n",
      "语音转文本结果：小小数喊，\n"
     ]
    }
   ],
   "source": [
    "from pydub import AudioSegment\n",
    "from aip import AipSpeech\n",
    "\n",
    "# 百度云语音识别的 API Key 和 Secret Key\n",
    "APP_ID = '6251315'\n",
    "API_KEY = 'Yz15TnhVhSoiX3p1uUfOLYCX'\n",
    "SECRET_KEY = '0HCL2dA6NIdK51Wz2jQVkqddwvnoAixb'\n",
    "\n",
    "# 初始化AipSpeech对象\n",
    "client = AipSpeech(APP_ID, API_KEY, SECRET_KEY)\n",
    "\n",
    "def convert_mp3_to_wav(mp3_file_path, wav_file_path):\n",
    "    \"\"\"将 MP3 文件转换为 WAV 格式\"\"\"\n",
    "    audio = AudioSegment.from_mp3(mp3_file_path)\n",
    "    audio = audio.set_frame_rate(16000)  # 设置采样率为16000 Hz\n",
    "    # audio.export(wav_file_path, format=\"wav\")  # 使用 PCM 编码导出\n",
    "\n",
    "    audio = audio.set_sample_width(2)  # 使用 2 字节采样（16-bit）\n",
    "    audio = audio.set_channels(1)  # 设置为单声道（语音识别通常更适合单声道）\n",
    "    audio = audio + 10  # 增加10dB\n",
    "\n",
    "    audio.export(wav_file_path, format=\"wav\", codec=\"pcm_s16le\")  # 使用 PCM 编码导出\n",
    "\n",
    "def speech_to_text(audio_file_path):\n",
    "    \"\"\"使用百度云语音识别将音频文件转为文本\"\"\"\n",
    "    with open(audio_file_path, 'rb') as f:\n",
    "        audio_data = f.read()\n",
    "        \n",
    "        result = client.asr(audio_data, 'wav', 16000, {\n",
    "             'dev_pid': 1637,  # 语言参数设置为粤语\n",
    "        })\n",
    "        \n",
    "        print(result)\n",
    "        \n",
    "        if result.get('err_no') == 0:\n",
    "            return result['result'][0]\n",
    "        else:\n",
    "            return None\n",
    "\n",
    "# 使用示例：首先将 MP3 文件转换为 WAV 文件\n",
    "mp3_file_path = './cv-corpus-20.0-2024-12-06/yue/clips/common_voice_yue_40641381.mp3'\n",
    "wav_file_path = 'converted_audio.wav'\n",
    "convert_mp3_to_wav(mp3_file_path, wav_file_path)\n",
    "\n",
    "# 然后将转换后的 WAV 文件传给百度云进行语音识别\n",
    "transcription = speech_to_text(wav_file_path)\n",
    "print(f\"语音转文本结果：{transcription}\")\n"
   ]
  }
 ],
 "metadata": {
  "kernelspec": {
   "display_name": "Python 3 (ipykernel)",
   "language": "python",
   "name": "python3"
  },
  "language_info": {
   "codemirror_mode": {
    "name": "ipython",
    "version": 3
   },
   "file_extension": ".py",
   "mimetype": "text/x-python",
   "name": "python",
   "nbconvert_exporter": "python",
   "pygments_lexer": "ipython3",
   "version": "3.12.3"
  }
 },
 "nbformat": 4,
 "nbformat_minor": 5
}
